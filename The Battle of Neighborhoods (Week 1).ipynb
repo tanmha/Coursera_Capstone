{
 "cells": [
  {
   "cell_type": "markdown",
   "metadata": {},
   "source": [
    "# Intro"
   ]
  },
  {
   "cell_type": "markdown",
   "metadata": {},
   "source": [
    "Mumbai Suburban Railway Network has 135 stations and is one of the busiest public transportation systems in India. It is used by more than 7.24 million people daily for commuting over the city.\n",
    "For this project, we want to look at the places surrounding railway stations and classify them. Some areas are mostly residential, others have more business or commercial spaces surrounding them. \n",
    "The venues closest to a station may help us to determine why and how people use it. Eg. if there are no professional places in a neighborhood its residents are likely to travel to other areas for work.\n",
    "This creates daily migrations of people. By analyzing this data we can classify stations by their primary usage.\n",
    "This data can be useful for the city planners to determine where from and where people are most likely to travel for work and leisure, plan a further extension of the network, and find places for new development."
   ]
  },
  {
   "cell_type": "markdown",
   "metadata": {},
   "source": [
    "# Data"
   ]
  },
  {
   "cell_type": "markdown",
   "metadata": {},
   "source": [
    "for this project we will be using data on the location of stations and on the venues closest to them.\n",
    "\n",
    "1. location of stations can be fetched from [wikipedia](https://en.wikipedia.org/wiki/List_of_Mumbai_Suburban_Railway_stations)\n",
    "2. Foursquare API will be used to explore venue types surrounding each station.Foursquare gives also gives the category,subcategory of the venue  "
   ]
  }
 ],
 "metadata": {
  "kernelspec": {
   "display_name": "Python",
   "language": "python",
   "name": "conda-env-python-py"
  },
  "language_info": {
   "codemirror_mode": {
    "name": "ipython",
    "version": 3
   },
   "file_extension": ".py",
   "mimetype": "text/x-python",
   "name": "python",
   "nbconvert_exporter": "python",
   "pygments_lexer": "ipython3",
   "version": "3.6.10"
  }
 },
 "nbformat": 4,
 "nbformat_minor": 4
}
