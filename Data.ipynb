{
 "cells": [
  {
   "cell_type": "code",
   "execution_count": 1,
   "metadata": {},
   "outputs": [
    {
     "name": "stdout",
     "output_type": "stream",
     "text": [
      "Collecting BeautifulSoup4\n",
      "\u001b[?25l  Downloading https://files.pythonhosted.org/packages/e8/b5/7bb03a696f2c9b7af792a8f51b82974e51c268f15e925fc834876a4efa0b/beautifulsoup4-4.9.0-py3-none-any.whl (109kB)\n",
      "\u001b[K     |████████████████████████████████| 112kB 26.2MB/s eta 0:00:01\n",
      "\u001b[?25hCollecting soupsieve>1.2 (from BeautifulSoup4)\n",
      "  Downloading https://files.pythonhosted.org/packages/05/cf/ea245e52f55823f19992447b008bcbb7f78efc5960d77f6c34b5b45b36dd/soupsieve-2.0-py2.py3-none-any.whl\n",
      "Installing collected packages: soupsieve, BeautifulSoup4\n",
      "Successfully installed BeautifulSoup4-4.9.0 soupsieve-2.0\n",
      "Collecting lxml\n",
      "\u001b[?25l  Downloading https://files.pythonhosted.org/packages/dd/ba/a0e6866057fc0bbd17192925c1d63a3b85cf522965de9bc02364d08e5b84/lxml-4.5.0-cp36-cp36m-manylinux1_x86_64.whl (5.8MB)\n",
      "\u001b[K     |████████████████████████████████| 5.8MB 26.0MB/s eta 0:00:01     |█████████████████▍              | 3.1MB 26.0MB/s eta 0:00:01     |█████████████████████▋          | 3.9MB 26.0MB/s eta 0:00:01     |████████████████████████▎       | 4.4MB 26.0MB/s eta 0:00:01     |█████████████████████████████   | 5.2MB 26.0MB/s eta 0:00:01\n",
      "\u001b[?25hInstalling collected packages: lxml\n",
      "Successfully installed lxml-4.5.0\n",
      "Collecting geopy\n",
      "\u001b[?25l  Downloading https://files.pythonhosted.org/packages/53/fc/3d1b47e8e82ea12c25203929efb1b964918a77067a874b2c7631e2ec35ec/geopy-1.21.0-py2.py3-none-any.whl (104kB)\n",
      "\u001b[K     |████████████████████████████████| 112kB 7.1MB/s eta 0:00:01\n",
      "\u001b[?25hCollecting geographiclib<2,>=1.49 (from geopy)\n",
      "  Downloading https://files.pythonhosted.org/packages/8b/62/26ec95a98ba64299163199e95ad1b0e34ad3f4e176e221c40245f211e425/geographiclib-1.50-py3-none-any.whl\n",
      "Installing collected packages: geographiclib, geopy\n",
      "Successfully installed geographiclib-1.50 geopy-1.21.0\n"
     ]
    }
   ],
   "source": [
    "!pip install BeautifulSoup4\n",
    "!pip install lxml \n",
    "!pip install geopy"
   ]
  },
  {
   "cell_type": "code",
   "execution_count": 2,
   "metadata": {},
   "outputs": [],
   "source": [
    "import pandas as pd\n",
    "import numpy as np\n",
    "from bs4 import BeautifulSoup\n",
    "import requests\n",
    "from geopy.geocoders import Nominatim\n",
    "\n",
    "import folium"
   ]
  },
  {
   "cell_type": "code",
   "execution_count": 3,
   "metadata": {},
   "outputs": [],
   "source": [
    "wikipedia_link='https://en.wikipedia.org/wiki/List_of_Mumbai_Suburban_Railway_stations'\n",
    "raw_wikipedia_page= requests.get(wikipedia_link).text\n",
    "\n",
    "#website scraping using beautifulsoup package\n",
    "soup = BeautifulSoup(raw_wikipedia_page,'lxml')\n"
   ]
  },
  {
   "cell_type": "code",
   "execution_count": 4,
   "metadata": {},
   "outputs": [
    {
     "data": {
      "text/plain": [
       "[    0                                                  1\n",
       " 0   †                                   Terminal station\n",
       " 1   *  Transfer station (excluding transfer to Indian...\n",
       " 2  †*       Terminal and transfer station to other lines,\n",
       "        # Station Name                Station Code  \\\n",
       "        #      English        Marathi Station Code   \n",
       " 0      1       Airoli          ऐरोली          NaN   \n",
       " 1      2    Ambarnath        अंबरनाथ            A   \n",
       " 2      3      Ambivli        आंबिवली          NaN   \n",
       " 3      4      Andheri         अंधेरी          AAD   \n",
       " 4      5     Asangaon        आसनगांव           AN   \n",
       " ..   ...          ...            ...          ...   \n",
       " 129  131        Sewri          शिवडी          NaN   \n",
       " 130  132       Taloja  तळोजे पंचानंद          NaN   \n",
       " 131  133          Pen            पेण          NaN   \n",
       " 132  134     Rasayani         रसायनी          NaN   \n",
       " 133  135    Nagothane        नागोठणे          NaN   \n",
       " \n",
       "                                               Line Fast train stop[a]  \\\n",
       "                                               Line Fast train stop[a]   \n",
       " 0                               Trans-Harbour Line                NaN   \n",
       " 1                                     Central Line                NaN   \n",
       " 2                                     Central Line                NaN   \n",
       " 3    Western LineHarbour LineLine 1 (Mumbai Metro)                NaN   \n",
       " 4                                     Central Line                NaN   \n",
       " ..                                             ...                ...   \n",
       " 129                                   Harbour Line                NaN   \n",
       " 130                                   Central Line                NaN   \n",
       " 131                                   Harbour Line                NaN   \n",
       " 132                                   Harbour Line                NaN   \n",
       " 133                                   Harbour Line                NaN   \n",
       " \n",
       "     Long Distance[b] Notes Refs  \n",
       "     Long Distance[b] Notes Refs  \n",
       " 0                NaN   NaN  NaN  \n",
       " 1                NaN   NaN  NaN  \n",
       " 2                NaN   NaN  NaN  \n",
       " 3                NaN   NaN  NaN  \n",
       " 4                NaN   NaN  NaN  \n",
       " ..               ...   ...  ...  \n",
       " 129              NaN   NaN  NaN  \n",
       " 130              NaN   NaN  NaN  \n",
       " 131              NaN   NaN  NaN  \n",
       " 132              NaN   NaN  NaN  \n",
       " 133              NaN   NaN  NaN  \n",
       " \n",
       " [134 rows x 9 columns]]"
      ]
     },
     "execution_count": 4,
     "metadata": {},
     "output_type": "execute_result"
    }
   ],
   "source": [
    "table=soup.find_all('table')\n",
    "df = pd.read_html(str(table))\n",
    "df"
   ]
  },
  {
   "cell_type": "code",
   "execution_count": 108,
   "metadata": {},
   "outputs": [
    {
     "data": {
      "text/html": [
       "<div>\n",
       "<style scoped>\n",
       "    .dataframe tbody tr th:only-of-type {\n",
       "        vertical-align: middle;\n",
       "    }\n",
       "\n",
       "    .dataframe tbody tr th {\n",
       "        vertical-align: top;\n",
       "    }\n",
       "\n",
       "    .dataframe thead th {\n",
       "        text-align: right;\n",
       "    }\n",
       "</style>\n",
       "<table border=\"1\" class=\"dataframe\">\n",
       "  <thead>\n",
       "    <tr style=\"text-align: right;\">\n",
       "      <th></th>\n",
       "      <th>Station name</th>\n",
       "      <th>location</th>\n",
       "    </tr>\n",
       "  </thead>\n",
       "  <tbody>\n",
       "    <tr>\n",
       "      <th>0</th>\n",
       "      <td>Airoli</td>\n",
       "      <td>(19.158514699999998, 72.99940185331164)</td>\n",
       "    </tr>\n",
       "    <tr>\n",
       "      <th>1</th>\n",
       "      <td>Ambarnath</td>\n",
       "      <td>(19.1436074, 73.2955345448486)</td>\n",
       "    </tr>\n",
       "    <tr>\n",
       "      <th>2</th>\n",
       "      <td>Ambivli</td>\n",
       "      <td>(19.267645, 73.1718625)</td>\n",
       "    </tr>\n",
       "    <tr>\n",
       "      <th>3</th>\n",
       "      <td>Andheri</td>\n",
       "      <td>(19.1196976, 72.8464205)</td>\n",
       "    </tr>\n",
       "    <tr>\n",
       "      <th>4</th>\n",
       "      <td>Asangaon</td>\n",
       "      <td>(19.4409122, 73.3065183)</td>\n",
       "    </tr>\n",
       "  </tbody>\n",
       "</table>\n",
       "</div>"
      ],
      "text/plain": [
       "  Station name                                 location\n",
       "0       Airoli  (19.158514699999998, 72.99940185331164)\n",
       "1    Ambarnath           (19.1436074, 73.2955345448486)\n",
       "2      Ambivli                  (19.267645, 73.1718625)\n",
       "3      Andheri                 (19.1196976, 72.8464205)\n",
       "4     Asangaon                 (19.4409122, 73.3065183)"
      ]
     },
     "execution_count": 108,
     "metadata": {},
     "output_type": "execute_result"
    }
   ],
   "source": [
    "df[1]['Station Name']['English']\n",
    "\n",
    "geolocator = Nominatim(user_agent=\"foursquare_agent\")\n",
    "\n",
    "stations_df = pd.DataFrame(columns=['Station name','location'])\n",
    "\n",
    "for station in df[1]['Station Name']['English']:\n",
    "    address = station+' station,india'\n",
    "    location = geolocator.geocode(address)\n",
    "    if location is not None:\n",
    "        stations_df = stations_df.append({\n",
    "            'Station name': station,\n",
    "            'location': (location.latitude,location.longitude)\n",
    "        }, ignore_index=True)   \n",
    "\n",
    "stations_df.head()"
   ]
  },
  {
   "cell_type": "markdown",
   "metadata": {},
   "source": [
    "## Venues and categories\n",
    "We will use Foursquare API to explore venue categories surrounding each station. Venues can be categorized as residential, professional, shopping or leisure. Let's see what venue categories Foursquare identifies."
   ]
  },
  {
   "cell_type": "code",
   "execution_count": 72,
   "metadata": {},
   "outputs": [],
   "source": [
    "CLIENT_ID = '' # your Foursquare ID\n",
    "CLIENT_SECRET = '' # your Foursquare Secret\n",
    "VERSION = '20180604'\n",
    "LIMIT = 100"
   ]
  },
  {
   "cell_type": "code",
   "execution_count": 73,
   "metadata": {},
   "outputs": [],
   "source": [
    "categories_url = 'https://api.foursquare.com/v2/venues/categories?client_id={}&client_secret={}&v={}'.format(\n",
    "            CLIENT_ID, \n",
    "            CLIENT_SECRET, \n",
    "            VERSION)\n",
    "            \n",
    "# make the GET request\n",
    "results = requests.get(categories_url).json()"
   ]
  },
  {
   "cell_type": "code",
   "execution_count": 64,
   "metadata": {},
   "outputs": [
    {
     "data": {
      "text/plain": [
       "10"
      ]
     },
     "execution_count": 64,
     "metadata": {},
     "output_type": "execute_result"
    }
   ],
   "source": [
    "len(results['response']['categories'])"
   ]
  },
  {
   "cell_type": "markdown",
   "metadata": {},
   "source": [
    "we can see there are 10 major category"
   ]
  },
  {
   "cell_type": "code",
   "execution_count": 74,
   "metadata": {},
   "outputs": [
    {
     "name": "stdout",
     "output_type": "stream",
     "text": [
      "Arts & Entertainment\n",
      "College & University\n",
      "Event\n",
      "Food\n",
      "Nightlife Spot\n",
      "Outdoors & Recreation\n",
      "Professional & Other Places\n",
      "Residence\n",
      "Shop & Service\n",
      "Travel & Transport\n"
     ]
    }
   ],
   "source": [
    "for category in results['response']['categories']:\n",
    "    print(category['name'])"
   ]
  },
  {
   "cell_type": "markdown",
   "metadata": {},
   "source": [
    "We will be using the foursquare explore API with catid to query the number of venues of each category in a specific radius.\n",
    "The response contains a totalResults value for the specified coordinates, radius and category."
   ]
  },
  {
   "cell_type": "code",
   "execution_count": 104,
   "metadata": {},
   "outputs": [],
   "source": [
    "def get_venues_count(loc,  categoryId):\n",
    "    explore_url = 'https://api.foursquare.com/v2/venues/explore?client_id={}&client_secret={}&v={}&ll={}&radius={}&categoryId={}'.format(\n",
    "                CLIENT_ID,  CLIENT_SECRET, VERSION,\",\".join(map(str,loc)),1000,categoryId)\n",
    "    return requests.get(explore_url).json()['response']['totalResults']"
   ]
  },
  {
   "cell_type": "code",
   "execution_count": 84,
   "metadata": {},
   "outputs": [],
   "source": [
    "#Create new dataframe to store venues data\n",
    "stations_venues = stations_df.copy()\n",
    "for category in categories_list:\n",
    "    stations_venues_df[category[0]] = 0"
   ]
  },
  {
   "cell_type": "code",
   "execution_count": 102,
   "metadata": {},
   "outputs": [
    {
     "data": {
      "text/plain": [
       "131"
      ]
     },
     "execution_count": 102,
     "metadata": {},
     "output_type": "execute_result"
    }
   ],
   "source": [
    "len(stations_venues_df)"
   ]
  },
  {
   "cell_type": "code",
   "execution_count": 106,
   "metadata": {},
   "outputs": [
    {
     "name": "stdout",
     "output_type": "stream",
     "text": [
      "0 (19.158514699999998, 72.99940185331164)\n",
      "1 (19.1436074, 73.2955345448486)\n",
      "2 (19.267645, 73.1718625)\n",
      "3 (19.1196976, 72.8464205)\n",
      "4 (19.4409122, 73.3065183)\n",
      "5 (19.503751, 73.327362)\n",
      "6 (19.1669545, 73.2381899)\n",
      "7 (19.05492845, 72.8405920869825)\n",
      "8 (19.1438684, 72.9384327)\n",
      "9 (19.3102682, 72.8530973)\n",
      "10 (18.9705432, 73.331417)\n",
      "11 (19.362530800000002, 73.07847467842203)\n",
      "12 (19.7863383, 72.7925799)\n",
      "13 (19.229068, 72.8573628)\n",
      "14 (18.9766219, 72.8327936)\n",
      "15 (19.01898695, 73.03909472408442)\n",
      "16 (18.9524563, 72.8174395)\n",
      "17 (19.0612128, 72.8975909)\n",
      "18 (18.9398453, 72.83547038112503)\n",
      "19 (18.9871984, 72.8326716)\n",
      "20 (19.0517703, 72.8690974)\n",
      "21 (18.9359567, 72.8273404)\n",
      "22 (18.9871866, 72.8438965)\n",
      "23 (18.9949978, 72.8328707)\n",
      "24 (27.0724152, 75.6453967)\n",
      "25 (19.9915236, 72.7434083)\n",
      "26 (19.2494501, 72.8596206)\n",
      "27 (19.187695, 73.0583421)\n",
      "28 (19.1887564, 73.0414169)\n",
      "29 (18.9674767, 72.8445477)\n",
      "30 (18.8331631, 73.3203444)\n",
      "31 (19.2180493, 73.0861355)\n",
      "32 (19.0148811, 72.8279556)\n",
      "33 (19.1722019, 72.9632085)\n",
      "34 (19.11637965, 73.00699279145043)\n",
      "35 (19.0891525, 72.9074443)\n",
      "36 (19.1647723, 72.8508992)\n",
      "37 (19.0553688, 72.9150702)\n",
      "38 (18.96273275, 72.81603893825404)\n",
      "39 (19.0369905, 72.8621647)\n",
      "40 (19.1348994, 72.8488199)\n",
      "41 (19.3547576, 72.87482)\n",
      "42 (19.0561686, 73.01824514610297)\n",
      "43 (19.0358309, 73.1034796)\n",
      "44 (28.2444377, 75.9134674)\n",
      "45 (19.2716301, 73.23586552517415)\n",
      "46 (19.3366555, 72.9190837)\n",
      "47 (19.204159, 72.8516821)\n",
      "48 (19.1296868, 72.9283701)\n",
      "49 (18.9617775, 73.37750396869731)\n",
      "50 (19.6482325, 73.4735887)\n",
      "51 (18.8445032, 73.3190229)\n",
      "52 (19.6239393, 72.7912034)\n",
      "53 (19.356724, 73.2190375)\n",
      "54 (19.0073498, 73.0952827)\n",
      "55 (19.0696584, 72.8398944)\n",
      "56 (19.2939701, 72.9953635)\n",
      "57 (17.5755903, 75.2701684)\n",
      "58 (19.0257731, 73.05918477985664)\n",
      "59 (18.959918000000002, 73.0141408146118)\n",
      "60 (18.787747, 73.3438185)\n",
      "61 (19.0316822, 72.8577375)\n",
      "62 (19.212423, 73.078865)\n",
      "63 (19.1028516, 73.0030748)\n",
      "64 (19.0652797, 72.8793805)\n",
      "65 (18.9963318, 72.8308603)\n",
      "66 (18.809181, 73.3353859)\n",
      "67 (18.9825679, 72.82416)\n",
      "68 (19.6464428, 72.7196769)\n",
      "69 (19.1867193, 72.8485884)\n",
      "70 (19.0485178, 72.9323356)\n",
      "71 (19.0164338, 73.0806552)\n",
      "72 (18.9456701, 72.823781)\n",
      "73 (18.9527781, 72.8381032)\n",
      "74 (19.0274356, 72.8501467)\n",
      "75 (19.0278149, 72.8466813)\n",
      "76 (19.2816975, 72.8560676)\n",
      "77 (18.9695855, 72.8193152)\n",
      "78 (19.1722904, 72.9564695)\n",
      "79 (19.1899425, 73.0230752)\n",
      "80 (19.1543618, 72.9464735)\n",
      "81 (20.787829, 79.589794)\n",
      "82 (19.4188363, 72.8256898)\n",
      "83 (19.0274308, 73.3184369)\n",
      "84 (19.033611800000003, 73.01813957492513)\n",
      "85 (19.053846, 73.1030296)\n",
      "86 (18.9461995, 72.95031154854297)\n",
      "87 (19.1545761, 73.0802554)\n",
      "88 (19.68086385, 72.82537342511341)\n",
      "89 (18.96558885, 73.10288130582491)\n",
      "90 (19.0094817, 72.8376614)\n",
      "91 (19.1366366, 73.00278067582235)\n",
      "92 (19.151023, 72.8501467)\n",
      "93 (18.4468606, 73.13868829070498)\n",
      "94 (19.0083605, 73.021779)\n",
      "95 (18.9609243, 72.8393719)\n",
      "96 (19.06597735, 73.00953290144423)\n",
      "97 (19.0815223, 72.8417565)\n",
      "98 (19.0221923, 73.01873756602905)\n",
      "99 (19.5771316, 72.8218812)\n",
      "100 (19.0465213, 72.8632834)\n",
      "101 (19.2458783, 73.1573918)\n",
      "102 (20.3708363, 77.2480043)\n",
      "103 (19.5502698, 73.352282)\n",
      "104 (18.9920191, 73.0384519)\n",
      "105 (19.1872787, 72.97734732395253)\n",
      "106 (19.2255622, 73.0968165)\n",
      "107 (19.2948464, 73.2051012)\n",
      "108 (19.0761648, 73.01766154369602)\n",
      "109 (19.217643600000002, 73.16361081346678)\n",
      "110 (19.6337517, 73.4256215)\n",
      "111 (19.7557614, 72.7604506)\n",
      "112 (18.878674, 72.9494826)\n",
      "113 (19.0168546, 72.8591933)\n",
      "114 (19.5186517, 72.8499772)\n",
      "115 (19.8829908, 72.7631658)\n",
      "116 (19.0943323, 73.3008946)\n",
      "117 (19.3826208, 72.8320393)\n",
      "118 (19.063404050000003, 72.99904980384244)\n",
      "119 (19.4065089, 73.2674683)\n",
      "120 (19.0796294, 72.8974906700789)\n",
      "121 (19.1114795, 72.928021)\n",
      "122 (19.1002887, 72.8417618)\n",
      "123 (19.436533, 72.8384526)\n",
      "124 (19.228396, 73.1495166)\n",
      "125 (27.6379803, 95.667004)\n",
      "126 (18.9987796, 72.8544218)\n",
      "127 (19.0614859, 73.1161392)\n",
      "128 (18.6973659, 73.13672046831282)\n",
      "129 (18.8978821, 73.1803608)\n",
      "130 (18.5402418, 73.1406194)\n"
     ]
    }
   ],
   "source": [
    "for i in range(len(stations_venues_df)):\n",
    "    print(i,stations_venues.location.iloc[i])\n",
    "    for c in categories_list:\n",
    "        stations_venues.loc[i, c[0]] = get_venues_count(stations_venues.location.iloc[i], categoryId=c[1])\n",
    "stations_venues.to_csv('stations_venues.csv')"
   ]
  },
  {
   "cell_type": "markdown",
   "metadata": {},
   "source": [
    "# Final consolidated data"
   ]
  },
  {
   "cell_type": "code",
   "execution_count": 117,
   "metadata": {},
   "outputs": [
    {
     "data": {
      "text/html": [
       "<div>\n",
       "<style scoped>\n",
       "    .dataframe tbody tr th:only-of-type {\n",
       "        vertical-align: middle;\n",
       "    }\n",
       "\n",
       "    .dataframe tbody tr th {\n",
       "        vertical-align: top;\n",
       "    }\n",
       "\n",
       "    .dataframe thead th {\n",
       "        text-align: right;\n",
       "    }\n",
       "</style>\n",
       "<table border=\"1\" class=\"dataframe\">\n",
       "  <thead>\n",
       "    <tr style=\"text-align: right;\">\n",
       "      <th></th>\n",
       "      <th>Station name</th>\n",
       "      <th>location</th>\n",
       "      <th>Arts &amp; Entertainment</th>\n",
       "      <th>College &amp; University</th>\n",
       "      <th>Event</th>\n",
       "      <th>Food</th>\n",
       "      <th>Nightlife Spot</th>\n",
       "      <th>Outdoors &amp; Recreation</th>\n",
       "      <th>Professional &amp; Other Places</th>\n",
       "      <th>Residence</th>\n",
       "      <th>Shop &amp; Service</th>\n",
       "      <th>Travel &amp; Transport</th>\n",
       "    </tr>\n",
       "  </thead>\n",
       "  <tbody>\n",
       "    <tr>\n",
       "      <th>0</th>\n",
       "      <td>Airoli</td>\n",
       "      <td>(19.158514699999998, 72.99940185331164)</td>\n",
       "      <td>0</td>\n",
       "      <td>5</td>\n",
       "      <td>0</td>\n",
       "      <td>13</td>\n",
       "      <td>2</td>\n",
       "      <td>7</td>\n",
       "      <td>15</td>\n",
       "      <td>4</td>\n",
       "      <td>3</td>\n",
       "      <td>3</td>\n",
       "    </tr>\n",
       "    <tr>\n",
       "      <th>1</th>\n",
       "      <td>Ambarnath</td>\n",
       "      <td>(19.1436074, 73.2955345448486)</td>\n",
       "      <td>0</td>\n",
       "      <td>0</td>\n",
       "      <td>0</td>\n",
       "      <td>0</td>\n",
       "      <td>0</td>\n",
       "      <td>0</td>\n",
       "      <td>0</td>\n",
       "      <td>0</td>\n",
       "      <td>0</td>\n",
       "      <td>0</td>\n",
       "    </tr>\n",
       "    <tr>\n",
       "      <th>2</th>\n",
       "      <td>Ambivli</td>\n",
       "      <td>(19.267645, 73.1718625)</td>\n",
       "      <td>0</td>\n",
       "      <td>0</td>\n",
       "      <td>0</td>\n",
       "      <td>1</td>\n",
       "      <td>0</td>\n",
       "      <td>0</td>\n",
       "      <td>2</td>\n",
       "      <td>1</td>\n",
       "      <td>3</td>\n",
       "      <td>4</td>\n",
       "    </tr>\n",
       "    <tr>\n",
       "      <th>3</th>\n",
       "      <td>Andheri</td>\n",
       "      <td>(19.1196976, 72.8464205)</td>\n",
       "      <td>5</td>\n",
       "      <td>8</td>\n",
       "      <td>0</td>\n",
       "      <td>33</td>\n",
       "      <td>7</td>\n",
       "      <td>9</td>\n",
       "      <td>21</td>\n",
       "      <td>4</td>\n",
       "      <td>36</td>\n",
       "      <td>14</td>\n",
       "    </tr>\n",
       "    <tr>\n",
       "      <th>4</th>\n",
       "      <td>Asangaon</td>\n",
       "      <td>(19.4409122, 73.3065183)</td>\n",
       "      <td>0</td>\n",
       "      <td>0</td>\n",
       "      <td>0</td>\n",
       "      <td>6</td>\n",
       "      <td>0</td>\n",
       "      <td>0</td>\n",
       "      <td>0</td>\n",
       "      <td>0</td>\n",
       "      <td>0</td>\n",
       "      <td>1</td>\n",
       "    </tr>\n",
       "  </tbody>\n",
       "</table>\n",
       "</div>"
      ],
      "text/plain": [
       "  Station name                                 location  Arts & Entertainment  \\\n",
       "0       Airoli  (19.158514699999998, 72.99940185331164)                     0   \n",
       "1    Ambarnath           (19.1436074, 73.2955345448486)                     0   \n",
       "2      Ambivli                  (19.267645, 73.1718625)                     0   \n",
       "3      Andheri                 (19.1196976, 72.8464205)                     5   \n",
       "4     Asangaon                 (19.4409122, 73.3065183)                     0   \n",
       "\n",
       "   College & University  Event  Food  Nightlife Spot  Outdoors & Recreation  \\\n",
       "0                     5      0    13               2                      7   \n",
       "1                     0      0     0               0                      0   \n",
       "2                     0      0     1               0                      0   \n",
       "3                     8      0    33               7                      9   \n",
       "4                     0      0     6               0                      0   \n",
       "\n",
       "   Professional & Other Places  Residence  Shop & Service  Travel & Transport  \n",
       "0                           15          4               3                   3  \n",
       "1                            0          0               0                   0  \n",
       "2                            2          1               3                   4  \n",
       "3                           21          4              36                  14  \n",
       "4                            0          0               0                   1  "
      ]
     },
     "execution_count": 117,
     "metadata": {},
     "output_type": "execute_result"
    }
   ],
   "source": [
    "stations_venues = pd.read_csv('stations_venues.csv', index_col=0)\n",
    "stations_venues.head()"
   ]
  },
  {
   "cell_type": "code",
   "execution_count": 116,
   "metadata": {},
   "outputs": [],
   "source": []
  }
 ],
 "metadata": {
  "kernelspec": {
   "display_name": "Python",
   "language": "python",
   "name": "conda-env-python-py"
  },
  "language_info": {
   "codemirror_mode": {
    "name": "ipython",
    "version": 3
   },
   "file_extension": ".py",
   "mimetype": "text/x-python",
   "name": "python",
   "nbconvert_exporter": "python",
   "pygments_lexer": "ipython3",
   "version": "3.6.10"
  }
 },
 "nbformat": 4,
 "nbformat_minor": 4
}
